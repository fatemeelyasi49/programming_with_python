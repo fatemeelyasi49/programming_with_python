{
  "nbformat": 4,
  "nbformat_minor": 0,
  "metadata": {
    "colab": {
      "provenance": []
    },
    "kernelspec": {
      "name": "python3",
      "display_name": "Python 3"
    },
    "language_info": {
      "name": "python"
    }
  },
  "cells": [
    {
      "cell_type": "code",
      "execution_count": null,
      "metadata": {
        "id": "b3SYoz6zNTTS"
      },
      "outputs": [],
      "source": [
        "a = [5268, 4325, 25, 14, 12, 32]\n",
        "\n",
        "b = (4, 9, 2, 3, 7)\n",
        "\n",
        "c = {\"ali\", 0, 10, 15, 9.4}\n",
        "\n",
        "d = {\"name\": \"ali\", \"age\": 27, \"experience_level\": 4}"
      ]
    },
    {
      "cell_type": "code",
      "source": [
        "for value in a:\n",
        "    print(value)"
      ],
      "metadata": {
        "colab": {
          "base_uri": "https://localhost:8080/"
        },
        "id": "0gm8LbmnPglS",
        "outputId": "ce942d50-41a2-4f8d-e98a-4e18ef4c6271"
      },
      "execution_count": null,
      "outputs": [
        {
          "output_type": "stream",
          "name": "stdout",
          "text": [
            "5268\n",
            "4325\n",
            "25\n",
            "14\n",
            "12\n",
            "32\n"
          ]
        }
      ]
    },
    {
      "cell_type": "code",
      "source": [
        "for value in b:\n",
        "    print(value)"
      ],
      "metadata": {
        "colab": {
          "base_uri": "https://localhost:8080/"
        },
        "id": "iPrwENF9QfnC",
        "outputId": "bfbb8905-7a3e-43c1-89e8-93c7601d36c3"
      },
      "execution_count": null,
      "outputs": [
        {
          "output_type": "stream",
          "name": "stdout",
          "text": [
            "4\n",
            "9\n",
            "2\n",
            "3\n",
            "7\n"
          ]
        }
      ]
    },
    {
      "cell_type": "code",
      "source": [
        "for value in c:\n",
        "    print(value)"
      ],
      "metadata": {
        "colab": {
          "base_uri": "https://localhost:8080/"
        },
        "id": "nbxV4VfbQndj",
        "outputId": "812a8cd0-1249-4e98-cef4-4a6cee0d0470"
      },
      "execution_count": null,
      "outputs": [
        {
          "output_type": "stream",
          "name": "stdout",
          "text": [
            "0\n",
            "9\n",
            "10\n",
            "ali\n",
            "15\n"
          ]
        }
      ]
    },
    {
      "cell_type": "code",
      "source": [
        "for value in d:\n",
        "    print(value)"
      ],
      "metadata": {
        "colab": {
          "base_uri": "https://localhost:8080/"
        },
        "id": "KbsGleBWQrRt",
        "outputId": "8a0c2304-e1b6-4dcc-ff12-36bc22fe5065"
      },
      "execution_count": null,
      "outputs": [
        {
          "output_type": "stream",
          "name": "stdout",
          "text": [
            "name\n",
            "age\n",
            "experience_level\n"
          ]
        }
      ]
    },
    {
      "cell_type": "code",
      "source": [
        "for key in d.keys():\n",
        "    print(key)"
      ],
      "metadata": {
        "colab": {
          "base_uri": "https://localhost:8080/"
        },
        "id": "W9n-zuWkQ1oU",
        "outputId": "4612c861-eb8c-420c-a321-d9bb859a852b"
      },
      "execution_count": null,
      "outputs": [
        {
          "output_type": "stream",
          "name": "stdout",
          "text": [
            "name\n",
            "age\n",
            "experience_level\n"
          ]
        }
      ]
    },
    {
      "cell_type": "code",
      "source": [
        "for value in d.values():\n",
        "    print(value)"
      ],
      "metadata": {
        "colab": {
          "base_uri": "https://localhost:8080/"
        },
        "id": "ov3U3XPyRFo3",
        "outputId": "95b733e7-bb8c-483d-b40a-caee5254dd0f"
      },
      "execution_count": null,
      "outputs": [
        {
          "output_type": "stream",
          "name": "stdout",
          "text": [
            "ali\n",
            "27\n",
            "4\n"
          ]
        }
      ]
    },
    {
      "cell_type": "code",
      "source": [
        "for item in d.items():\n",
        "    print(item)"
      ],
      "metadata": {
        "colab": {
          "base_uri": "https://localhost:8080/"
        },
        "id": "NtKyifpDRQ2U",
        "outputId": "03a33e11-70a4-4110-d7b0-86c5a41baa75"
      },
      "execution_count": null,
      "outputs": [
        {
          "output_type": "stream",
          "name": "stdout",
          "text": [
            "('name', 'ali')\n",
            "('age', 27)\n",
            "('experience_level', 4)\n"
          ]
        }
      ]
    },
    {
      "cell_type": "code",
      "source": [
        "a = [5268, 4325, 25, 14, 12, 32]\n",
        "\n",
        "for value in a:\n",
        "    print(value)\n",
        "    print(value ** 2)\n",
        "    print(value * 3)\n",
        "    print(\"--------------------------------\")\n",
        "print(\"Done\")"
      ],
      "metadata": {
        "colab": {
          "base_uri": "https://localhost:8080/"
        },
        "id": "1egvxRrPSDzg",
        "outputId": "d8e9baca-bba6-4711-a9e4-291ac6aec350"
      },
      "execution_count": null,
      "outputs": [
        {
          "output_type": "stream",
          "name": "stdout",
          "text": [
            "5268\n",
            "27751824\n",
            "15804\n",
            "--------------------------------\n",
            "4325\n",
            "18705625\n",
            "12975\n",
            "--------------------------------\n",
            "25\n",
            "625\n",
            "75\n",
            "--------------------------------\n",
            "14\n",
            "196\n",
            "42\n",
            "--------------------------------\n",
            "12\n",
            "144\n",
            "36\n",
            "--------------------------------\n",
            "32\n",
            "1024\n",
            "96\n",
            "--------------------------------\n",
            "Done\n"
          ]
        }
      ]
    },
    {
      "cell_type": "code",
      "source": [
        "a = [0, 1, 2, 3, 4, 5, 6, 7, 8, 9]\n",
        "\n",
        "for value in a:\n",
        "    print(value)"
      ],
      "metadata": {
        "colab": {
          "base_uri": "https://localhost:8080/"
        },
        "id": "sVY9OFRvSjwe",
        "outputId": "beb64bac-c033-4534-fde7-c5c5bac55a7c"
      },
      "execution_count": null,
      "outputs": [
        {
          "output_type": "stream",
          "name": "stdout",
          "text": [
            "0\n",
            "1\n",
            "2\n",
            "3\n",
            "4\n",
            "5\n",
            "6\n",
            "7\n",
            "8\n",
            "9\n"
          ]
        }
      ]
    },
    {
      "cell_type": "code",
      "source": [
        "value = 0\n",
        "\n",
        "while value < 10:\n",
        "    print(value)\n",
        "    value = value + 1"
      ],
      "metadata": {
        "colab": {
          "base_uri": "https://localhost:8080/"
        },
        "id": "qoZY2QP4UF22",
        "outputId": "701cbbde-6cca-4d35-addf-d7423a7f5551"
      },
      "execution_count": null,
      "outputs": [
        {
          "output_type": "stream",
          "name": "stdout",
          "text": [
            "0\n",
            "1\n",
            "2\n",
            "3\n",
            "4\n",
            "5\n",
            "6\n",
            "7\n",
            "8\n",
            "9\n"
          ]
        }
      ]
    },
    {
      "cell_type": "code",
      "source": [
        "value = 0\n",
        "\n",
        "while value < 10:\n",
        "    x = value\n",
        "    y = value ** 2\n",
        "    print(x, y)\n",
        "    value = value + 1\n"
      ],
      "metadata": {
        "colab": {
          "base_uri": "https://localhost:8080/"
        },
        "id": "mntsB38pUZA7",
        "outputId": "cbf1bb2b-e34d-4cba-9de2-d36cb03f591e"
      },
      "execution_count": null,
      "outputs": [
        {
          "output_type": "stream",
          "name": "stdout",
          "text": [
            "0 0\n",
            "1 1\n",
            "2 4\n",
            "3 9\n",
            "4 16\n",
            "5 25\n",
            "6 36\n",
            "7 49\n",
            "8 64\n",
            "9 81\n"
          ]
        }
      ]
    },
    {
      "cell_type": "code",
      "source": [
        "v = 10\n",
        "\n",
        "if v < 20:\n",
        "    print(\"v is less than 20\")\n",
        "    print(\"Done\")\n",
        "    print(\"my name is ali\")"
      ],
      "metadata": {
        "colab": {
          "base_uri": "https://localhost:8080/"
        },
        "id": "fvjGUywoVzfQ",
        "outputId": "51cd563c-7647-4d48-9396-1f1599c6fda6"
      },
      "execution_count": null,
      "outputs": [
        {
          "output_type": "stream",
          "name": "stdout",
          "text": [
            "v is less than 20\n",
            "Done\n",
            "my name is ali\n"
          ]
        }
      ]
    },
    {
      "cell_type": "code",
      "source": [
        "temperature = 18"
      ],
      "metadata": {
        "id": "0Yw2QupLWUr6"
      },
      "execution_count": null,
      "outputs": []
    },
    {
      "cell_type": "code",
      "source": [
        "if temperature > 30:\n",
        "    print(\"It is very hot outside.\")\n",
        "    print(\"I will never go outside with this heat.\")\n",
        "elif temperature > 20:\n",
        "    print(\"It is quite hot outside.\")\n",
        "    print(\"I will go outside only with my car.\")\n",
        "elif temperature > 8:\n",
        "    print(\"It is so nice outside.\")\n",
        "    print(\"Let's go and run together.\")\n",
        "else:\n",
        "    print(\"It is so cold outside.\")\n",
        "    print(\"Stay inside and turn on boilers.\")\n",
        "\n",
        "print(\"Done\")"
      ],
      "metadata": {
        "colab": {
          "base_uri": "https://localhost:8080/"
        },
        "id": "2Ud8W9eCXEaA",
        "outputId": "aeafd8e4-0aec-4e76-8d8b-e7c1ff903a7c"
      },
      "execution_count": null,
      "outputs": [
        {
          "output_type": "stream",
          "name": "stdout",
          "text": [
            "It is so nice outside.\n",
            "Let's go and run together.\n",
            "Done\n"
          ]
        }
      ]
    },
    {
      "cell_type": "code",
      "source": [
        "a = [1, 2, 3, 4, 5, 6, 7, 8, 9, 10]\n",
        "\n",
        "for value in a:\n",
        "    if value % 2 == 0:\n",
        "        print(value)"
      ],
      "metadata": {
        "colab": {
          "base_uri": "https://localhost:8080/"
        },
        "id": "2qHuZ5mBZi1r",
        "outputId": "96fb4af1-70d1-400d-fec7-200a7b512b21"
      },
      "execution_count": null,
      "outputs": [
        {
          "output_type": "stream",
          "name": "stdout",
          "text": [
            "2\n",
            "4\n",
            "6\n",
            "8\n",
            "10\n"
          ]
        }
      ]
    },
    {
      "cell_type": "code",
      "source": [
        "value = 1\n",
        "\n",
        "while value <= 10:\n",
        "    if value % 2 == 0:\n",
        "        print(value)\n",
        "    value = value + 1"
      ],
      "metadata": {
        "colab": {
          "base_uri": "https://localhost:8080/"
        },
        "id": "yOUYx6BfZ57e",
        "outputId": "3892cc80-1d42-4328-d8f9-6386fc022c45"
      },
      "execution_count": null,
      "outputs": [
        {
          "output_type": "stream",
          "name": "stdout",
          "text": [
            "2\n",
            "4\n",
            "6\n",
            "8\n",
            "10\n"
          ]
        }
      ]
    },
    {
      "cell_type": "code",
      "source": [
        "temperature = 50\n",
        "\n",
        "if temperature > 30:\n",
        "    print(\"It is very hot outside.\")\n",
        "    print(\"I will never go outside with this heat.\")\n",
        "elif temperature > 20:\n",
        "    print(\"It is quite hot outside.\")\n",
        "    print(\"I will go outside only with my car.\")\n",
        "\n",
        "print(\"Done\")"
      ],
      "metadata": {
        "colab": {
          "base_uri": "https://localhost:8080/"
        },
        "id": "Xp42khdraDaw",
        "outputId": "743a7c98-d373-474a-ea30-a4cdc132d2ce"
      },
      "execution_count": null,
      "outputs": [
        {
          "output_type": "stream",
          "name": "stdout",
          "text": [
            "It is very hot outside.\n",
            "I will never go outside with this heat.\n",
            "Done\n"
          ]
        }
      ]
    },
    {
      "cell_type": "code",
      "source": [
        "temperature = 50\n",
        "\n",
        "if temperature > 30:\n",
        "    print(\"It is very hot outside.\")\n",
        "    print(\"I will never go outside with this heat.\")\n",
        "if temperature > 20:\n",
        "    print(\"It is quite hot outside.\")\n",
        "    print(\"I will go outside only with my car.\")\n",
        "\n",
        "print(\"Done\")"
      ],
      "metadata": {
        "colab": {
          "base_uri": "https://localhost:8080/"
        },
        "id": "7bmLvG-Zak-q",
        "outputId": "17a7d6bc-c5b8-4743-e7fe-83a4a2d21b11"
      },
      "execution_count": null,
      "outputs": [
        {
          "output_type": "stream",
          "name": "stdout",
          "text": [
            "It is very hot outside.\n",
            "I will never go outside with this heat.\n",
            "It is quite hot outside.\n",
            "I will go outside only with my car.\n",
            "Done\n"
          ]
        }
      ]
    },
    {
      "cell_type": "markdown",
      "source": [
        "# Factorial Calculation"
      ],
      "metadata": {
        "id": "0fog_NyDfZAf"
      }
    },
    {
      "cell_type": "code",
      "source": [
        "n = 10\n",
        "\n",
        "factorial_n = 1\n",
        "i = n\n",
        "while i >= 1:\n",
        "    factorial_n = factorial_n * i\n",
        "    i = i - 1\n",
        "print(factorial_n)"
      ],
      "metadata": {
        "colab": {
          "base_uri": "https://localhost:8080/"
        },
        "id": "kRpX59BPaxBi",
        "outputId": "5c0fc713-fe18-4c80-e2c1-917157a60a15"
      },
      "execution_count": null,
      "outputs": [
        {
          "output_type": "stream",
          "name": "stdout",
          "text": [
            "3628800\n"
          ]
        }
      ]
    },
    {
      "cell_type": "code",
      "source": [
        "factorial_n = 1\n",
        "for number in range(1, n + 1):\n",
        "    print(number, factorial_n)\n",
        "    factorial_n = factorial_n * number\n",
        "    print(number, factorial_n)\n",
        "    print(\"---------------------------\")\n",
        "# print(factorial_n)"
      ],
      "metadata": {
        "colab": {
          "base_uri": "https://localhost:8080/"
        },
        "id": "PfvOw-r3f4W3",
        "outputId": "a2b7e571-5f04-4879-829f-c724ef9e6c4b"
      },
      "execution_count": null,
      "outputs": [
        {
          "output_type": "stream",
          "name": "stdout",
          "text": [
            "1 1\n",
            "1 1\n",
            "---------------------------\n",
            "2 1\n",
            "2 2\n",
            "---------------------------\n",
            "3 2\n",
            "3 6\n",
            "---------------------------\n",
            "4 6\n",
            "4 24\n",
            "---------------------------\n",
            "5 24\n",
            "5 120\n",
            "---------------------------\n",
            "6 120\n",
            "6 720\n",
            "---------------------------\n",
            "7 720\n",
            "7 5040\n",
            "---------------------------\n",
            "8 5040\n",
            "8 40320\n",
            "---------------------------\n",
            "9 40320\n",
            "9 362880\n",
            "---------------------------\n",
            "10 362880\n",
            "10 3628800\n",
            "---------------------------\n"
          ]
        }
      ]
    },
    {
      "cell_type": "code",
      "source": [
        "list(range(20))"
      ],
      "metadata": {
        "colab": {
          "base_uri": "https://localhost:8080/"
        },
        "id": "Luo274bxgZyW",
        "outputId": "87c46507-188d-4366-908b-aacec52ba993"
      },
      "execution_count": null,
      "outputs": [
        {
          "output_type": "execute_result",
          "data": {
            "text/plain": [
              "[0, 1, 2, 3, 4, 5, 6, 7, 8, 9, 10, 11, 12, 13, 14, 15, 16, 17, 18, 19]"
            ]
          },
          "metadata": {},
          "execution_count": 37
        }
      ]
    },
    {
      "cell_type": "code",
      "source": [
        "list(range(5, 21, 2))"
      ],
      "metadata": {
        "colab": {
          "base_uri": "https://localhost:8080/"
        },
        "id": "jT2QlJLGggUi",
        "outputId": "0a279c36-40d4-42f4-b3a8-f2483f34f85f"
      },
      "execution_count": null,
      "outputs": [
        {
          "output_type": "execute_result",
          "data": {
            "text/plain": [
              "[5, 7, 9, 11, 13, 15, 17, 19]"
            ]
          },
          "metadata": {},
          "execution_count": 39
        }
      ]
    },
    {
      "cell_type": "markdown",
      "source": [
        "# Fibonacci Calculation"
      ],
      "metadata": {
        "id": "FnOPbwmWnuYL"
      }
    },
    {
      "cell_type": "code",
      "source": [
        "n = 8\n",
        "\n",
        "a = [0] * n\n",
        "print(a)\n",
        "a[0] = 1\n",
        "print(a)\n",
        "a[1] = 1\n",
        "print(a)\n",
        "\n",
        "for i in range(2, n):\n",
        "    a[i] = a[i - 1] + a[i - 2]\n",
        "    print(a)\n",
        "\n",
        "print(a[-1])"
      ],
      "metadata": {
        "colab": {
          "base_uri": "https://localhost:8080/"
        },
        "id": "VwEhWhhNgpJ0",
        "outputId": "1d23b447-63d6-4d1a-fce2-5a7e6b4f4b38"
      },
      "execution_count": null,
      "outputs": [
        {
          "output_type": "stream",
          "name": "stdout",
          "text": [
            "[0, 0, 0, 0, 0, 0, 0, 0]\n",
            "[1, 0, 0, 0, 0, 0, 0, 0]\n",
            "[1, 1, 0, 0, 0, 0, 0, 0]\n",
            "[1, 1, 2, 0, 0, 0, 0, 0]\n",
            "[1, 1, 2, 3, 0, 0, 0, 0]\n",
            "[1, 1, 2, 3, 5, 0, 0, 0]\n",
            "[1, 1, 2, 3, 5, 8, 0, 0]\n",
            "[1, 1, 2, 3, 5, 8, 13, 0]\n",
            "[1, 1, 2, 3, 5, 8, 13, 21]\n",
            "21\n"
          ]
        }
      ]
    },
    {
      "cell_type": "code",
      "source": [
        "[0] * 8"
      ],
      "metadata": {
        "colab": {
          "base_uri": "https://localhost:8080/"
        },
        "id": "6UXwlI6IoDLc",
        "outputId": "48803e4a-530a-4e53-d555-3607fc9f48bb"
      },
      "execution_count": null,
      "outputs": [
        {
          "output_type": "execute_result",
          "data": {
            "text/plain": [
              "[0, 0, 0, 0, 0, 0, 0, 0]"
            ]
          },
          "metadata": {},
          "execution_count": 48
        }
      ]
    },
    {
      "cell_type": "code",
      "source": [
        "a = [0] * n\n",
        "a[0] = 1\n",
        "a[1] = 1\n",
        "\n",
        "a"
      ],
      "metadata": {
        "colab": {
          "base_uri": "https://localhost:8080/"
        },
        "id": "Cot2UVHoo6zI",
        "outputId": "08caf45f-7b78-493e-8e4d-3af8037a9f5a"
      },
      "execution_count": null,
      "outputs": [
        {
          "output_type": "execute_result",
          "data": {
            "text/plain": [
              "[1, 1, 0, 0, 0, 0, 0, 0]"
            ]
          },
          "metadata": {},
          "execution_count": 49
        }
      ]
    },
    {
      "cell_type": "code",
      "source": [
        "list(range(2, n))"
      ],
      "metadata": {
        "colab": {
          "base_uri": "https://localhost:8080/"
        },
        "id": "eKw4ueKcpEF1",
        "outputId": "555c5640-ebe0-437f-c4f5-c6c27252084b"
      },
      "execution_count": null,
      "outputs": [
        {
          "output_type": "execute_result",
          "data": {
            "text/plain": [
              "[2, 3, 4, 5, 6, 7]"
            ]
          },
          "metadata": {},
          "execution_count": 52
        }
      ]
    },
    {
      "cell_type": "code",
      "source": [
        "n = 8\n",
        "\n",
        "a = []\n",
        "print(a)\n",
        "a.append(1)\n",
        "print(a)\n",
        "a.append(1)\n",
        "print(a)\n",
        "\n",
        "for i in range(2, n):\n",
        "    value_i = a[i - 1] + a[i - 2]\n",
        "    a.append(value_i)\n",
        "    print(a)\n",
        "\n",
        "print(a[-1])"
      ],
      "metadata": {
        "colab": {
          "base_uri": "https://localhost:8080/"
        },
        "id": "rQDECgR8p_qH",
        "outputId": "729d6a1b-7c87-4374-82f7-fe07460307b0"
      },
      "execution_count": null,
      "outputs": [
        {
          "output_type": "stream",
          "name": "stdout",
          "text": [
            "[]\n",
            "[1]\n",
            "[1, 1]\n",
            "[1, 1, 2]\n",
            "[1, 1, 2, 3]\n",
            "[1, 1, 2, 3, 5]\n",
            "[1, 1, 2, 3, 5, 8]\n",
            "[1, 1, 2, 3, 5, 8, 13]\n",
            "[1, 1, 2, 3, 5, 8, 13, 21]\n",
            "21\n"
          ]
        }
      ]
    },
    {
      "cell_type": "code",
      "source": [
        "n = 8\n",
        "\n",
        "a = 1\n",
        "b = 1\n",
        "\n",
        "for index in range(2, n):\n",
        "    c = a + b\n",
        "    a = b\n",
        "    b = c\n",
        "\n",
        "print(c)"
      ],
      "metadata": {
        "colab": {
          "base_uri": "https://localhost:8080/"
        },
        "id": "fK3RROi-q-GL",
        "outputId": "092f81cb-fc1f-43d1-a948-6de205d52b3c"
      },
      "execution_count": null,
      "outputs": [
        {
          "output_type": "stream",
          "name": "stdout",
          "text": [
            "21\n"
          ]
        }
      ]
    },
    {
      "cell_type": "markdown",
      "source": [
        "# Prime Number Evaluation"
      ],
      "metadata": {
        "id": "MfGW1Px0tL38"
      }
    },
    {
      "cell_type": "code",
      "source": [
        "n = 11371\n",
        "\n",
        "\n",
        "is_prime = True\n",
        "for x in range(2, n):\n",
        "    if n % x == 0:\n",
        "        is_prime = False\n",
        "\n",
        "print(is_prime)"
      ],
      "metadata": {
        "colab": {
          "base_uri": "https://localhost:8080/"
        },
        "id": "y10X8h3nrx8T",
        "outputId": "661bcf7e-2f16-4e22-f85f-531fe1dbba76"
      },
      "execution_count": null,
      "outputs": [
        {
          "output_type": "stream",
          "name": "stdout",
          "text": [
            "852 µs ± 268 µs per loop (mean ± std. dev. of 7 runs, 1000 loops each)\n"
          ]
        }
      ]
    },
    {
      "cell_type": "code",
      "source": [
        "n = 11371\n",
        "\n",
        "\n",
        "is_prime = True\n",
        "upper_bound = int(n ** 0.5) + 1\n",
        "for x in range(2, upper_bound):\n",
        "    if n % x == 0:\n",
        "        is_prime = False\n",
        "        break\n",
        "\n",
        "print(is_prime)"
      ],
      "metadata": {
        "colab": {
          "base_uri": "https://localhost:8080/"
        },
        "id": "3WICQ_IovvrA",
        "outputId": "ceccadaa-b76e-4ecc-d175-e8e52e8ae4b9"
      },
      "execution_count": null,
      "outputs": [
        {
          "output_type": "stream",
          "name": "stdout",
          "text": [
            "5.95 µs ± 1.69 µs per loop (mean ± std. dev. of 7 runs, 100000 loops each)\n"
          ]
        }
      ]
    },
    {
      "cell_type": "code",
      "source": [
        "852/6"
      ],
      "metadata": {
        "colab": {
          "base_uri": "https://localhost:8080/"
        },
        "id": "1oSQ1HNFvwKr",
        "outputId": "9ab980b4-61c5-45c8-982c-98efd7c08019"
      },
      "execution_count": null,
      "outputs": [
        {
          "output_type": "execute_result",
          "data": {
            "text/plain": [
              "142.0"
            ]
          },
          "metadata": {},
          "execution_count": 73
        }
      ]
    },
    {
      "cell_type": "code",
      "source": [],
      "metadata": {
        "id": "Yr-1nVL3vwHj"
      },
      "execution_count": null,
      "outputs": []
    },
    {
      "cell_type": "code",
      "source": [],
      "metadata": {
        "id": "pMWiZ-qKvwFk"
      },
      "execution_count": null,
      "outputs": []
    },
    {
      "cell_type": "code",
      "source": [],
      "metadata": {
        "id": "3K3Klm6EvwDO"
      },
      "execution_count": null,
      "outputs": []
    },
    {
      "cell_type": "markdown",
      "source": [
        "# Break and Continue"
      ],
      "metadata": {
        "id": "1_LNzJWhufnP"
      }
    },
    {
      "cell_type": "code",
      "source": [
        "for number in range(1, 11):\n",
        "    print(number)\n",
        "    if number % 3 == 0:\n",
        "        continue\n",
        "    print(number)"
      ],
      "metadata": {
        "colab": {
          "base_uri": "https://localhost:8080/"
        },
        "id": "rdl6BH2otlUz",
        "outputId": "9ae55a98-fcf7-4cb5-c95e-96a1597c89ea"
      },
      "execution_count": null,
      "outputs": [
        {
          "output_type": "stream",
          "name": "stdout",
          "text": [
            "1\n",
            "1\n",
            "2\n",
            "2\n",
            "3\n",
            "4\n",
            "4\n",
            "5\n",
            "5\n",
            "6\n",
            "7\n",
            "7\n",
            "8\n",
            "8\n",
            "9\n",
            "10\n",
            "10\n"
          ]
        }
      ]
    },
    {
      "cell_type": "code",
      "source": [
        "for number in range(1, 11):\n",
        "    if number % 3 == 0:\n",
        "        break\n",
        "    print(number)"
      ],
      "metadata": {
        "colab": {
          "base_uri": "https://localhost:8080/"
        },
        "id": "xps49NM5utQB",
        "outputId": "760abf57-8d9e-4a11-ed8e-aeca59c62b0b"
      },
      "execution_count": null,
      "outputs": [
        {
          "output_type": "stream",
          "name": "stdout",
          "text": [
            "1\n",
            "2\n"
          ]
        }
      ]
    },
    {
      "cell_type": "code",
      "source": [
        "for number in range(1, 11):\n",
        "    print(number)\n",
        "    if number % 3 == 0:\n",
        "        pass\n",
        "    print(number)"
      ],
      "metadata": {
        "colab": {
          "base_uri": "https://localhost:8080/"
        },
        "id": "04D7yzQixerK",
        "outputId": "05f52afd-3a5c-4a02-e3bf-8809d3b88c2b"
      },
      "execution_count": null,
      "outputs": [
        {
          "output_type": "stream",
          "name": "stdout",
          "text": [
            "1\n",
            "1\n",
            "2\n",
            "2\n",
            "3\n",
            "3\n",
            "4\n",
            "4\n",
            "5\n",
            "5\n",
            "6\n",
            "6\n",
            "7\n",
            "7\n",
            "8\n",
            "8\n",
            "9\n",
            "9\n",
            "10\n",
            "10\n"
          ]
        }
      ]
    },
    {
      "cell_type": "code",
      "source": [
        "for i in range(3):\n",
        "    for j in range(3):\n",
        "        print(i, j)"
      ],
      "metadata": {
        "colab": {
          "base_uri": "https://localhost:8080/"
        },
        "id": "qaycAMq_vCJ7",
        "outputId": "45e22805-57c3-4010-a0c4-bbb5762cd56c"
      },
      "execution_count": null,
      "outputs": [
        {
          "output_type": "stream",
          "name": "stdout",
          "text": [
            "0 0\n",
            "0 1\n",
            "0 2\n",
            "1 0\n",
            "1 1\n",
            "1 2\n",
            "2 0\n",
            "2 1\n",
            "2 2\n"
          ]
        }
      ]
    },
    {
      "cell_type": "code",
      "source": [
        "for i in range(3):\n",
        "    for j in range(3):\n",
        "        if j == 1:\n",
        "            continue\n",
        "        print(i, j)"
      ],
      "metadata": {
        "colab": {
          "base_uri": "https://localhost:8080/"
        },
        "id": "-Zg2RjU6vL4Y",
        "outputId": "b596d0fd-96b8-416f-9a58-e07ce9f75822"
      },
      "execution_count": null,
      "outputs": [
        {
          "output_type": "stream",
          "name": "stdout",
          "text": [
            "0 0\n",
            "0 2\n",
            "1 0\n",
            "1 2\n",
            "2 0\n",
            "2 2\n"
          ]
        }
      ]
    },
    {
      "cell_type": "code",
      "source": [
        "for i in range(3):\n",
        "    for j in range(3):\n",
        "        if j == 1:\n",
        "            break\n",
        "        print(i, j)"
      ],
      "metadata": {
        "colab": {
          "base_uri": "https://localhost:8080/"
        },
        "id": "TZjyC_ugvagh",
        "outputId": "9012a967-bcf2-4436-858f-034be5ff2354"
      },
      "execution_count": null,
      "outputs": [
        {
          "output_type": "stream",
          "name": "stdout",
          "text": [
            "0 0\n",
            "1 0\n",
            "2 0\n"
          ]
        }
      ]
    },
    {
      "cell_type": "code",
      "source": [],
      "metadata": {
        "id": "NnTr_wRMvj-o"
      },
      "execution_count": null,
      "outputs": []
    }
  ]
}